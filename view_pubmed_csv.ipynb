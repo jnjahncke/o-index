{
 "cells": [
  {
   "cell_type": "code",
   "execution_count": 1,
   "id": "6c5d7a8e-ac9a-4832-b838-652e33749b2b",
   "metadata": {
    "tags": []
   },
   "outputs": [],
   "source": [
    "import numpy as np\n",
    "import pandas as pd\n",
    "from collections import defaultdict\n",
    "import requests\n",
    "from bs4 import BeautifulSoup\n",
    "import re\n",
    "import os\n",
    "import time\n",
    "import csv\n",
    "import os"
   ]
  },
  {
   "cell_type": "code",
   "execution_count": null,
   "id": "58b9dc52-8e03-4a00-beb7-6105c6356191",
   "metadata": {},
   "outputs": [],
   "source": [
    "# Load the PMC database\n",
    "df = pd.read_csv('./data/PMC-ids.csv',low_memory=False)"
   ]
  },
  {
   "cell_type": "code",
   "execution_count": null,
   "id": "736967d8-9e63-4611-8feb-ae54dec8dcc5",
   "metadata": {},
   "outputs": [],
   "source": [
    "df.head(10)\n",
    "df.shape"
   ]
  }
 ],
 "metadata": {
  "kernelspec": {
   "display_name": "Python 3 (ipykernel)",
   "language": "python",
   "name": "python3"
  },
  "language_info": {
   "codemirror_mode": {
    "name": "ipython",
    "version": 3
   },
   "file_extension": ".py",
   "mimetype": "text/x-python",
   "name": "python",
   "nbconvert_exporter": "python",
   "pygments_lexer": "ipython3",
   "version": "3.10.11"
  }
 },
 "nbformat": 4,
 "nbformat_minor": 5
}
