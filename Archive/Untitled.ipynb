{
 "cells": [
  {
   "cell_type": "code",
   "execution_count": 4,
   "id": "9e6d583b-f090-4d35-ae56-1d86a678b9d9",
   "metadata": {
    "tags": []
   },
   "outputs": [],
   "source": [
    "import requests\n",
    "from bs4 import BeautifulSoup\n",
    "from re import *"
   ]
  },
  {
   "cell_type": "code",
   "execution_count": 46,
   "id": "c4bec65e-c80c-4ab7-9405-7f10b61af1ec",
   "metadata": {
    "tags": []
   },
   "outputs": [
    {
     "name": "stdout",
     "output_type": "stream",
     "text": [
      "https://pubmed.ncbi.nlm.nih.gov/?term=Jason+Early&page=\n"
     ]
    }
   ],
   "source": [
    "#create URL\n",
    "firstname='Jason'\n",
    "lastname='Early'\n",
    "base_url= f'https://pubmed.ncbi.nlm.nih.gov/?term={firstname}+{lastname}&page='\n",
    "print(base_url)"
   ]
  },
  {
   "cell_type": "code",
   "execution_count": 39,
   "id": "b19226f7-68ef-48a7-a660-4f604529755e",
   "metadata": {
    "tags": []
   },
   "outputs": [],
   "source": [
    "#scrape the existing webpage for all PMIDs under an author\n",
    "response = requests.get(base_url)\n",
    "soup = BeautifulSoup(response.content, 'html.parser')\n",
    "pmids = soup.find_all('span', {'class' : 'docsum-pmid'})"
   ]
  },
  {
   "cell_type": "code",
   "execution_count": 36,
   "id": "a05c4207-5be8-4995-b446-ef9f2fb0de2b",
   "metadata": {
    "tags": []
   },
   "outputs": [
    {
     "name": "stdout",
     "output_type": "stream",
     "text": [
      "[]\n"
     ]
    }
   ],
   "source": [
    "#find total number of pages\n",
    "pages=soup.find_all('label', {'class' : 'of-total-pages'})\n",
    "print(pages)\n"
   ]
  },
  {
   "cell_type": "code",
   "execution_count": null,
   "id": "7b7d41dc-a377-46e8-80fa-2092033f5c75",
   "metadata": {},
   "outputs": [],
   "source": [
    "p=pages[0].text.strip()\n",
    "p = p.split()\n",
    "pagenum=int(p[1])"
   ]
  },
  {
   "cell_type": "code",
   "execution_count": null,
   "id": "70c237c9-9439-4acf-a58b-4837b75bf053",
   "metadata": {},
   "outputs": [],
   "source": [
    "# add to try to look at different pages, when it fails continue\n",
    "for i in range(1,pagenum+1): #change # into max num of pages\n",
    "    URL = f'https://pubmed.ncbi.nlm.nih.gov/?term={firstname}%{lastname}&page={i}'\n",
    "    print(URL)\n",
    "    response = requests.get(URL)\n",
    "    soup = BeautifulSoup(response.content, 'html.parser')\n",
    "    pmids += soup.find_all('span', {'class' : 'docsum-pmid'})"
   ]
  },
  {
   "cell_type": "code",
   "execution_count": null,
   "id": "a281b7a1-7e0c-4bed-a305-8ec2032a5a20",
   "metadata": {},
   "outputs": [],
   "source": [
    "ids = []\n",
    "for id in pmids:\n",
    "    ids.append(id.text.strip())\n",
    "print(ids)"
   ]
  }
 ],
 "metadata": {
  "kernelspec": {
   "display_name": "Python 3 (ipykernel)",
   "language": "python",
   "name": "python3"
  },
  "language_info": {
   "codemirror_mode": {
    "name": "ipython",
    "version": 3
   },
   "file_extension": ".py",
   "mimetype": "text/x-python",
   "name": "python",
   "nbconvert_exporter": "python",
   "pygments_lexer": "ipython3",
   "version": "3.10.11"
  }
 },
 "nbformat": 4,
 "nbformat_minor": 5
}
