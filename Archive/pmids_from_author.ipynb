{
 "cells": [
  {
   "cell_type": "markdown",
   "id": "d8b18b93-fa4a-4443-8c03-afa1a365f1d3",
   "metadata": {},
   "source": [
    "# Define Functions to Get PM(C)IDs and Openness"
   ]
  },
  {
   "cell_type": "code",
   "execution_count": 1,
   "id": "6f4cb65e-ed22-4175-8a28-0ab7b6e35ead",
   "metadata": {
    "tags": []
   },
   "outputs": [],
   "source": [
    "import requests\n",
    "from bs4 import BeautifulSoup\n",
    "from re import *"
   ]
  },
  {
   "cell_type": "code",
   "execution_count": 2,
   "id": "2f98f47b-c779-46a8-b5b0-1508b7606246",
   "metadata": {
    "tags": []
   },
   "outputs": [
    {
     "name": "stdout",
     "output_type": "stream",
     "text": [
      "Closed example:  (None, '2023')\n",
      "Open example:  ('PMC7612594', '2022')\n"
     ]
    }
   ],
   "source": [
    "# Get PMCID from PMID\n",
    "def get_pmcid_year(pmid):\n",
    "    base_url = f\"https://pubmed.ncbi.nlm.nih.gov/{pmid}/\"\n",
    "    response = requests.get(base_url)\n",
    "    soup = BeautifulSoup(response.content, 'html.parser')\n",
    "    date = soup.find_all('span', {'class' : 'cit'})[0].text.strip().split()[0]\n",
    "    try:\n",
    "        pmcid = soup.find_all('a', {'class' : 'id-link', 'data-ga-action' : 'PMCID'})[0].text.strip()\n",
    "    except:\n",
    "        pmcid = None\n",
    "    return (pmcid , date)\n",
    "\n",
    "print(\"Closed example: \", get_pmcid_year(\"35770940\"))\n",
    "print(\"Open example: \", get_pmcid_year(\"35165460\"))"
   ]
  },
  {
   "cell_type": "code",
   "execution_count": null,
   "id": "6e1addfc-0faf-4c51-820c-0a744c5bcc4c",
   "metadata": {
    "tags": []
   },
   "outputs": [],
   "source": [
    "# Get list of PMIDs from author name\n",
    "def get_pmids_open(author):\n",
    "    \n",
    "    # Parse author name, build first+last\n",
    "    author = author.split()\n",
    "    if len(author) > 1:\n",
    "        aname = author[0]\n",
    "        for name in author[1:]:\n",
    "            aname += \"%\" + name\n",
    "    else:\n",
    "        aname = author[0]\n",
    "        \n",
    "    #find total number of pages\n",
    "    base_url= f'https://pubmed.ncbi.nlm.nih.gov/?term={aname}&page='\n",
    "    response = requests.get(base_url)\n",
    "    soup = BeautifulSoup(response.content, 'html.parser')\n",
    "    pages = soup.find_all('label', {'class' : 'of-total-pages'})\n",
    "    p = pages[0].text.strip()\n",
    "    p = p.split()\n",
    "    pagenum=int(p[1])\n",
    "    \n",
    "    # scrape pubmed\n",
    "    pmids = []\n",
    "    entries = []\n",
    "    for i in range(1,pagenum+1): #change # into max num of pages\n",
    "        URL = f'https://pubmed.ncbi.nlm.nih.gov/?term={aname}&page={i}'\n",
    "        response = requests.get(URL)\n",
    "        soup = BeautifulSoup(response.content, 'html.parser')\n",
    "        pmids += soup.find_all('span', {'class' : 'docsum-pmid'})\n",
    "        entries += soup.find_all(\"div\", class_='docsum-content')\n",
    "    \n",
    "    # build dictionary of id:pmcid\n",
    "    ids = {}\n",
    "    for id,entry in zip(pmids,entries):\n",
    "        pmcid = get_pmcid(id.text.strip())\n",
    "        \n",
    "        if pmcid:\n",
    "            ids[id.text.strip()] = pmcid\n",
    "        elif search(r\"Free\",entry.text.strip()): # use regex to search for \"Free\" in docsum-content\n",
    "            ids[id.text.strip()] = \"open\"\n",
    "        else:\n",
    "            ids[id.text.strip()] = \"closed\"\n",
    "        \n",
    "    return ids\n",
    "\n",
    "print(\"Jennifer: \", get_pmids_open(\"jennifer jahncke\"))\n",
    "print(\"Emily L: \", get_pmids_open(\"emily lecy\"))\n",
    "print(\"Arpy: \", get_pmids_open(\"arpiar saunders\"))"
   ]
  }
 ],
 "metadata": {
  "kernelspec": {
   "display_name": "Python 3 (ipykernel)",
   "language": "python",
   "name": "python3"
  },
  "language_info": {
   "codemirror_mode": {
    "name": "ipython",
    "version": 3
   },
   "file_extension": ".py",
   "mimetype": "text/x-python",
   "name": "python",
   "nbconvert_exporter": "python",
   "pygments_lexer": "ipython3",
   "version": "3.10.11"
  }
 },
 "nbformat": 4,
 "nbformat_minor": 5
}
