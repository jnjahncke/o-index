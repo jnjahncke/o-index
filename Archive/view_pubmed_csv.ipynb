{
 "cells": [
  {
   "cell_type": "code",
   "execution_count": 8,
   "id": "6c5d7a8e-ac9a-4832-b838-652e33749b2b",
   "metadata": {
    "tags": []
   },
   "outputs": [],
   "source": [
    "import numpy as np\n",
    "import pandas as pd\n",
    "from collections import defaultdict\n",
    "import requests\n",
    "from bs4 import BeautifulSoup\n",
    "import re\n",
    "import os\n",
    "import time\n",
    "import csv\n",
    "import os\n",
    "import seaborn as sns"
   ]
  },
  {
   "cell_type": "code",
   "execution_count": 3,
   "id": "58b9dc52-8e03-4a00-beb7-6105c6356191",
   "metadata": {
    "tags": []
   },
   "outputs": [],
   "source": [
    "# Load the PMC database\n",
    "df = pd.read_csv('./data/PMC-ids.csv',low_memory=False)"
   ]
  },
  {
   "cell_type": "code",
   "execution_count": 41,
   "id": "306e91db-1bb2-44c1-8e0f-0b17b874f311",
   "metadata": {
    "tags": []
   },
   "outputs": [
    {
     "data": {
      "text/html": [
       "<div>\n",
       "<style scoped>\n",
       "    .dataframe tbody tr th:only-of-type {\n",
       "        vertical-align: middle;\n",
       "    }\n",
       "\n",
       "    .dataframe tbody tr th {\n",
       "        vertical-align: top;\n",
       "    }\n",
       "\n",
       "    .dataframe thead th {\n",
       "        text-align: right;\n",
       "    }\n",
       "</style>\n",
       "<table border=\"1\" class=\"dataframe\">\n",
       "  <thead>\n",
       "    <tr style=\"text-align: right;\">\n",
       "      <th></th>\n",
       "      <th>Journal Title</th>\n",
       "      <th>ISSN</th>\n",
       "      <th>eISSN</th>\n",
       "      <th>Year</th>\n",
       "      <th>Volume</th>\n",
       "      <th>Issue</th>\n",
       "      <th>Page</th>\n",
       "      <th>DOI</th>\n",
       "      <th>PMCID</th>\n",
       "      <th>PMID</th>\n",
       "      <th>Manuscript Id</th>\n",
       "      <th>Release Date</th>\n",
       "    </tr>\n",
       "  </thead>\n",
       "  <tbody>\n",
       "    <tr>\n",
       "      <th>4246167</th>\n",
       "      <td>J Psychol Med Ment Pathol</td>\n",
       "      <td>NaN</td>\n",
       "      <td>NaN</td>\n",
       "      <td>1848</td>\n",
       "      <td>1</td>\n",
       "      <td>4</td>\n",
       "      <td>652</td>\n",
       "      <td>NaN</td>\n",
       "      <td>PMC5093491</td>\n",
       "      <td>28907502.0</td>\n",
       "      <td>NaN</td>\n",
       "      <td>live</td>\n",
       "    </tr>\n",
       "    <tr>\n",
       "      <th>4246170</th>\n",
       "      <td>J Psychol Med Ment Pathol</td>\n",
       "      <td>NaN</td>\n",
       "      <td>NaN</td>\n",
       "      <td>1848</td>\n",
       "      <td>1</td>\n",
       "      <td>4</td>\n",
       "      <td>657</td>\n",
       "      <td>NaN</td>\n",
       "      <td>PMC5093494</td>\n",
       "      <td>28907504.0</td>\n",
       "      <td>NaN</td>\n",
       "      <td>live</td>\n",
       "    </tr>\n",
       "    <tr>\n",
       "      <th>4246169</th>\n",
       "      <td>J Psychol Med Ment Pathol</td>\n",
       "      <td>NaN</td>\n",
       "      <td>NaN</td>\n",
       "      <td>1848</td>\n",
       "      <td>1</td>\n",
       "      <td>4</td>\n",
       "      <td>512</td>\n",
       "      <td>NaN</td>\n",
       "      <td>PMC5093493</td>\n",
       "      <td>NaN</td>\n",
       "      <td>NaN</td>\n",
       "      <td>live</td>\n",
       "    </tr>\n",
       "    <tr>\n",
       "      <th>4246168</th>\n",
       "      <td>J Psychol Med Ment Pathol</td>\n",
       "      <td>NaN</td>\n",
       "      <td>NaN</td>\n",
       "      <td>1848</td>\n",
       "      <td>1</td>\n",
       "      <td>4</td>\n",
       "      <td>623</td>\n",
       "      <td>NaN</td>\n",
       "      <td>PMC5093492</td>\n",
       "      <td>28907503.0</td>\n",
       "      <td>NaN</td>\n",
       "      <td>live</td>\n",
       "    </tr>\n",
       "    <tr>\n",
       "      <th>4246166</th>\n",
       "      <td>J Psychol Med Ment Pathol</td>\n",
       "      <td>NaN</td>\n",
       "      <td>NaN</td>\n",
       "      <td>1848</td>\n",
       "      <td>1</td>\n",
       "      <td>4</td>\n",
       "      <td>M1</td>\n",
       "      <td>NaN</td>\n",
       "      <td>PMC5093490</td>\n",
       "      <td>28907501.0</td>\n",
       "      <td>NaN</td>\n",
       "      <td>live</td>\n",
       "    </tr>\n",
       "    <tr>\n",
       "      <th>4246165</th>\n",
       "      <td>J Psychol Med Ment Pathol</td>\n",
       "      <td>NaN</td>\n",
       "      <td>NaN</td>\n",
       "      <td>1848</td>\n",
       "      <td>1</td>\n",
       "      <td>1</td>\n",
       "      <td>128</td>\n",
       "      <td>NaN</td>\n",
       "      <td>PMC5093489</td>\n",
       "      <td>28907500.0</td>\n",
       "      <td>NaN</td>\n",
       "      <td>live</td>\n",
       "    </tr>\n",
       "    <tr>\n",
       "      <th>4246164</th>\n",
       "      <td>J Psychol Med Ment Pathol</td>\n",
       "      <td>NaN</td>\n",
       "      <td>NaN</td>\n",
       "      <td>1848</td>\n",
       "      <td>1</td>\n",
       "      <td>1</td>\n",
       "      <td>100</td>\n",
       "      <td>NaN</td>\n",
       "      <td>PMC5093488</td>\n",
       "      <td>28907499.0</td>\n",
       "      <td>NaN</td>\n",
       "      <td>live</td>\n",
       "    </tr>\n",
       "    <tr>\n",
       "      <th>4246162</th>\n",
       "      <td>J Psychol Med Ment Pathol</td>\n",
       "      <td>NaN</td>\n",
       "      <td>NaN</td>\n",
       "      <td>1848</td>\n",
       "      <td>1</td>\n",
       "      <td>1</td>\n",
       "      <td>iii</td>\n",
       "      <td>NaN</td>\n",
       "      <td>PMC5093485</td>\n",
       "      <td>NaN</td>\n",
       "      <td>NaN</td>\n",
       "      <td>live</td>\n",
       "    </tr>\n",
       "    <tr>\n",
       "      <th>4246160</th>\n",
       "      <td>J Psychol Med Ment Pathol</td>\n",
       "      <td>NaN</td>\n",
       "      <td>NaN</td>\n",
       "      <td>1848</td>\n",
       "      <td>1</td>\n",
       "      <td>1</td>\n",
       "      <td>169</td>\n",
       "      <td>NaN</td>\n",
       "      <td>PMC5093483</td>\n",
       "      <td>28907497.0</td>\n",
       "      <td>NaN</td>\n",
       "      <td>live</td>\n",
       "    </tr>\n",
       "    <tr>\n",
       "      <th>4246178</th>\n",
       "      <td>J Psychol Med Ment Pathol</td>\n",
       "      <td>NaN</td>\n",
       "      <td>NaN</td>\n",
       "      <td>1848</td>\n",
       "      <td>1</td>\n",
       "      <td>4</td>\n",
       "      <td>657</td>\n",
       "      <td>NaN</td>\n",
       "      <td>PMC5093502</td>\n",
       "      <td>NaN</td>\n",
       "      <td>NaN</td>\n",
       "      <td>live</td>\n",
       "    </tr>\n",
       "  </tbody>\n",
       "</table>\n",
       "</div>"
      ],
      "text/plain": [
       "                     Journal Title ISSN eISSN  Year Volume Issue Page  DOI  \\\n",
       "4246167  J Psychol Med Ment Pathol  NaN   NaN  1848      1     4  652  NaN   \n",
       "4246170  J Psychol Med Ment Pathol  NaN   NaN  1848      1     4  657  NaN   \n",
       "4246169  J Psychol Med Ment Pathol  NaN   NaN  1848      1     4  512  NaN   \n",
       "4246168  J Psychol Med Ment Pathol  NaN   NaN  1848      1     4  623  NaN   \n",
       "4246166  J Psychol Med Ment Pathol  NaN   NaN  1848      1     4   M1  NaN   \n",
       "4246165  J Psychol Med Ment Pathol  NaN   NaN  1848      1     1  128  NaN   \n",
       "4246164  J Psychol Med Ment Pathol  NaN   NaN  1848      1     1  100  NaN   \n",
       "4246162  J Psychol Med Ment Pathol  NaN   NaN  1848      1     1  iii  NaN   \n",
       "4246160  J Psychol Med Ment Pathol  NaN   NaN  1848      1     1  169  NaN   \n",
       "4246178  J Psychol Med Ment Pathol  NaN   NaN  1848      1     4  657  NaN   \n",
       "\n",
       "              PMCID        PMID Manuscript Id Release Date  \n",
       "4246167  PMC5093491  28907502.0           NaN         live  \n",
       "4246170  PMC5093494  28907504.0           NaN         live  \n",
       "4246169  PMC5093493         NaN           NaN         live  \n",
       "4246168  PMC5093492  28907503.0           NaN         live  \n",
       "4246166  PMC5093490  28907501.0           NaN         live  \n",
       "4246165  PMC5093489  28907500.0           NaN         live  \n",
       "4246164  PMC5093488  28907499.0           NaN         live  \n",
       "4246162  PMC5093485         NaN           NaN         live  \n",
       "4246160  PMC5093483  28907497.0           NaN         live  \n",
       "4246178  PMC5093502         NaN           NaN         live  "
      ]
     },
     "execution_count": 41,
     "metadata": {},
     "output_type": "execute_result"
    }
   ],
   "source": [
    "df.shape\n",
    "df.head(10)\n"
   ]
  },
  {
   "cell_type": "code",
   "execution_count": 19,
   "id": "858c1bb5-86f8-45e9-a69d-180e54626b9c",
   "metadata": {
    "tags": []
   },
   "outputs": [],
   "source": [
    "# Check for articles that have a journal title and create a list of articles from neuro-psych-bio-medical fields\n",
    "df_temp = df[~df['Journal Title'].isnull()]\n",
    "j_list = ['brain', 'plos', 'neuro', 'psych', 'behav', 'cogn', 'bio', 'proc natl acad', 'elife',\n",
    "          'nature', 'science', 'sci rep', 'nat ', 'front ']\n",
    "df_keep = df_temp[df_temp['Journal Title'].str.lower().str.contains('|'.join(j_list))]"
   ]
  },
  {
   "cell_type": "code",
   "execution_count": 22,
   "id": "736967d8-9e63-4611-8feb-ae54dec8dcc5",
   "metadata": {
    "tags": []
   },
   "outputs": [
    {
     "data": {
      "text/plain": [
       "(2539141, 12)"
      ]
     },
     "execution_count": 22,
     "metadata": {},
     "output_type": "execute_result"
    }
   ],
   "source": [
    "df_keep.shape\n"
   ]
  },
  {
   "cell_type": "code",
   "execution_count": 23,
   "id": "1c1ff6e8-9733-4883-b9e4-001e7052cc80",
   "metadata": {
    "tags": []
   },
   "outputs": [],
   "source": [
    "df = df_keep.sort_values('Year')"
   ]
  },
  {
   "cell_type": "code",
   "execution_count": 44,
   "id": "661e1e34-f8d9-4d4c-ace5-071e8fd9cf13",
   "metadata": {
    "tags": []
   },
   "outputs": [
    {
     "data": {
      "text/plain": [
       "<bound method Series.unique of 6024737                Sci Rep\n",
       "6024736                Sci Rep\n",
       "6024725                Sci Rep\n",
       "6024726                Sci Rep\n",
       "6024727                Sci Rep\n",
       "                  ...         \n",
       "8954258      Neuropharmacology\n",
       "8954227             J Xenobiot\n",
       "8954024        Front Neuroanat\n",
       "8953953    Front Cell Dev Biol\n",
       "8954138       J Funct Biomater\n",
       "Name: Journal Title, Length: 1000000, dtype: object>"
      ]
     },
     "execution_count": 44,
     "metadata": {},
     "output_type": "execute_result"
    }
   ],
   "source": [
    "df_small  = df_keep.iloc[-1000000:]\n",
    "df_small.shape\n",
    "df_small['Journal Title'].unique"
   ]
  },
  {
   "cell_type": "code",
   "execution_count": 39,
   "id": "6244987b-9efd-4611-9dc3-434f45da0473",
   "metadata": {
    "tags": []
   },
   "outputs": [
    {
     "data": {
      "text/plain": [
       "<AxesSubplot:xlabel='Year', ylabel='count'>"
      ]
     },
     "execution_count": 39,
     "metadata": {},
     "output_type": "execute_result"
    },
    {
     "data": {
      "image/png": "[encoded data removed]",
      "text/plain": [
       "<Figure size 640x480 with 1 Axes>"
      ]
     },
     "metadata": {},
     "output_type": "display_data"
    }
   ],
   "source": [
    "sns.countplot(data = df_small, x = 'Year') \n",
    "\n"
   ]
  }
 ],
 "metadata": {
  "kernelspec": {
   "display_name": "Python 3 (ipykernel)",
   "language": "python",
   "name": "python3"
  },
  "language_info": {
   "codemirror_mode": {
    "name": "ipython",
    "version": 3
   },
   "file_extension": ".py",
   "mimetype": "text/x-python",
   "name": "python",
   "nbconvert_exporter": "python",
   "pygments_lexer": "ipython3",
   "version": "3.10.11"
  }
 },
 "nbformat": 4,
 "nbformat_minor": 5
}
