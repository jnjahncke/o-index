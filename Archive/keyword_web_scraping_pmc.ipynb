{
 "cells": [
  {
   "cell_type": "code",
   "execution_count": 2,
   "id": "dc5d1c91-ce76-4481-84a1-3d2ecdbf404d",
   "metadata": {
    "tags": []
   },
   "outputs": [],
   "source": [
    "import numpy as np\n",
    "import pandas as pd\n",
    "from collections import defaultdict\n",
    "\n",
    "import requests\n",
    "from bs4 import BeautifulSoup\n",
    "import re\n",
    "import os\n",
    "import time\n",
    "import csv\n",
    "import os\n",
    "\n",
    "if not os.path.exists('data/'):\n",
    "    os.makedirs('data/')\n",
    "\n"
   ]
  },
  {
   "cell_type": "code",
   "execution_count": 4,
   "id": "31ce73a4-be7e-414e-acf3-7cd903b7c931",
   "metadata": {
    "tags": []
   },
   "outputs": [],
   "source": [
    "# Load you personal API key\n",
    "apikey = open('apikey.txt', 'r').read()"
   ]
  },
  {
   "cell_type": "code",
   "execution_count": 5,
   "id": "53817aae-4e39-4e62-a70f-05cabcc1a1a0",
   "metadata": {
    "tags": []
   },
   "outputs": [],
   "source": [
    "# Load keywords and create open-science categories\n",
    "terms = pd.read_csv('keywords.csv')\n",
    "categories = terms['category']\n",
    "categories_unique = np.unique(np.array(categories))"
   ]
  },
  {
   "cell_type": "code",
   "execution_count": 24,
   "id": "1ce621f2-be2e-4139-8263-7e79fb9e6339",
   "metadata": {
    "tags": []
   },
   "outputs": [],
   "source": [
    "pmcids = ['PMC5554302', 'PMC7385183', 'PMC5037725']"
   ]
  },
  {
   "cell_type": "code",
   "execution_count": 32,
   "id": "3896c8de-ae25-4e2b-affe-e443af1acd7a",
   "metadata": {
    "tags": []
   },
   "outputs": [
    {
     "name": "stdout",
     "output_type": "stream",
     "text": [
      "[0, 2, 3, 0, 0, 0, 0, 0]\n"
     ]
    }
   ],
   "source": [
    "db = 'pmc'\n",
    "base = 'http://eutils.ncbi.nlm.nih.gov/entrez/eutils/efetch.fcgi?'\n",
    "dict_term = defaultdict(list)\n",
    "fulfilled_categories = [0] * len(categories_unique)\n",
    "for pmcid in pmcids:\n",
    "    s = '{:s}db={:s}&id={:s}'.format(base, db, pmcid, apikey)\n",
    "    out = requests.get(s)\n",
    "    bs = BeautifulSoup(out.content, 'lxml')\n",
    "    # Check if full text is available; if not - move to the next paper\n",
    "    full_text_available = not (bs.findAll('sec') == [])\n",
    "    if full_text_available is True:\n",
    "        for i, categoryInd in enumerate (categories_unique):\n",
    "            found_keyword = False\n",
    "            # Loop through specific keywords related to each open-science category\n",
    "            for term in terms['keyword'][terms['category'] == categoryInd]:\n",
    "                for s in re.finditer(term, out.text, re.IGNORECASE):\n",
    "                    fulfilled_categories[i] += 1\n",
    "                    found_keyword = True\n",
    "\n",
    "                # If one keyword is found, stop with searching for this category\n",
    "                if found_keyword is True:\n",
    "                    break\n",
    "\n",
    "print(fulfilled_categories)"
   ]
  }
 ],
 "metadata": {
  "kernelspec": {
   "display_name": "Python 3 (ipykernel)",
   "language": "python",
   "name": "python3"
  },
  "language_info": {
   "codemirror_mode": {
    "name": "ipython",
    "version": 3
   },
   "file_extension": ".py",
   "mimetype": "text/x-python",
   "name": "python",
   "nbconvert_exporter": "python",
   "pygments_lexer": "ipython3",
   "version": "3.10.11"
  }
 },
 "nbformat": 4,
 "nbformat_minor": 5
}
