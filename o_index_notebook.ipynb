{
 "cells": [
  {
   "cell_type": "markdown",
   "id": "b8ee0b49-486e-456e-87a4-2f90962c5ec3",
   "metadata": {
    "tags": []
   },
   "source": [
    "# __The O-Index:__ _A comprehensive rating of how open a scientist is with their publications_\n",
    "#### Authors: Jennifer Jahncke, Emily Lecy, Tania Miramontes, Emily Pickup"
   ]
  },
  {
   "cell_type": "markdown",
   "id": "85e0a16a-9fc8-4325-890f-6017ece8e4f2",
   "metadata": {},
   "source": [
    "## Description \n",
    "\n",
    "This project started in Neurohackademy, Seattle in August 2023 (http://neurohackademy.org/). The goal of this project is to create an automated interface where you can type an author name, and be given an o-index.\n",
    "\n",
    "The O-index is a value assigned to a scientist to represent how much open science an author contributes to. This index is created by weighing openness of both data, code, and manuscript availability.\n",
    "\n",
    "This project was initially inspired by a past project, the O-factor: https://github.com/srcole/o-factor, which gives journals an openness factor, in attempt to inspire open access initiatives."
   ]
  },
  {
   "cell_type": "markdown",
   "id": "257e20ec-a398-4cc8-b95c-67055a1efb7a",
   "metadata": {
    "tags": []
   },
   "source": [
    "### STEP 1: Find all papers contributed to by an author of interest:\n",
    "***\n",
    "We start by placing an authors name into our application. This name will be searched on pubmed, and the citations related to said author will be scraped for pubmed IDs.\n",
    "\n"
   ]
  },
  {
   "cell_type": "code",
   "execution_count": 1,
   "id": "0e4aa895-b24d-4339-b4a8-8e46a7cbf9b7",
   "metadata": {
    "tags": []
   },
   "outputs": [],
   "source": [
    "#import packages\n",
    "import requests\n",
    "from bs4 import BeautifulSoup\n",
    "from re import *\n",
    "import numpy as np\n",
    "import pandas as pd\n",
    "import seaborn as sns\n",
    "import matplotlib.pyplot as plt"
   ]
  },
  {
   "cell_type": "code",
   "execution_count": 2,
   "id": "5868bb55-5990-42cc-9053-63ca13d05463",
   "metadata": {
    "tags": []
   },
   "outputs": [],
   "source": [
    "# Get PMCID from PMID\n",
    "def get_pmcid_year(pmid):\n",
    "    base_url = f\"https://pubmed.ncbi.nlm.nih.gov/{pmid}/\"\n",
    "    response = requests.get(base_url)\n",
    "    soup = BeautifulSoup(response.content, 'html.parser')\n",
    "    date = soup.find_all('span', {'class' : 'cit'})[0].text.strip()\n",
    "    date = split(\"\\D\", date)[0]\n",
    "    try:\n",
    "        pmcid = soup.find_all('a', {'class' : 'id-link', 'data-ga-action' : 'PMCID'})[0].text.strip()\n",
    "    except:\n",
    "        pmcid = None\n",
    "    return (pmcid , date)\n",
    "\n",
    "\n",
    "# Get PMIDs, Openness from author name\n",
    "def get_pmids_open(author):\n",
    "    \n",
    "    # Parse author name, build first+last\n",
    "    author = author.split()\n",
    "    if len(author) > 1:\n",
    "        aname = author[0]\n",
    "        for name in author[1:]:\n",
    "            aname += \"+\" + name\n",
    "    else:\n",
    "        aname = author[0]\n",
    "        \n",
    "    #find total number of pages\n",
    "    base_url= f'https://pubmed.ncbi.nlm.nih.gov/?term={aname}&page='\n",
    "    response = requests.get(base_url)\n",
    "    soup = BeautifulSoup(response.content, 'html.parser')\n",
    "    pages = soup.find_all('label', {'class' : 'of-total-pages'})\n",
    "    p = pages[0].text.strip()\n",
    "    p = p.split()\n",
    "    pagenum=int(p[1])\n",
    "    \n",
    "    # scrape pubmed\n",
    "    pmids = []\n",
    "    entries = []\n",
    "    titles = []\n",
    "    journals = []\n",
    "    for i in range(1,pagenum+1): #change # into max num of pages\n",
    "        URL = f'https://pubmed.ncbi.nlm.nih.gov/?term={aname}&page={i}'\n",
    "        response = requests.get(URL)\n",
    "        soup = BeautifulSoup(response.content, 'html.parser')\n",
    "        pmids += soup.find_all('span', {'class' : 'docsum-pmid'})\n",
    "        entries += soup.find_all(\"div\", {'class' : 'docsum-content'})\n",
    "        titles += soup.find_all(\"a\", {'class' : 'docsum-title'})\n",
    "        journals += soup.find_all(\"span\", {'class' : 'docsum-journal-citation short-journal-citation'})\n",
    "    \n",
    "    # build dictionary of id:pmcid\n",
    "    ids = {}\n",
    "    years = {}\n",
    "    title_dict = {}\n",
    "    journal_dict = {}\n",
    "    for id,entry,title,journal in zip(pmids,entries,titles,journals):\n",
    "        id = id.text.strip()\n",
    "        pmcid, year = get_pmcid_year(id)\n",
    "        years[id] = year\n",
    "        title_dict[id] = title.text.strip()\n",
    "        journal_dict[id] = split(\"\\d\", journal.text.strip())[0].strip()\n",
    "        if pmcid:\n",
    "            ids[id] = pmcid\n",
    "        elif search(r\"Free\",entry.text.strip()): # use regex to search for \"Free\" in docsum-content\n",
    "            ids[id] = \"open\"\n",
    "        else:\n",
    "            ids[id] = \"closed\"\n",
    "        \n",
    "    return ids, years, title_dict, journal_dict"
   ]
  },
  {
   "cell_type": "code",
   "execution_count": 3,
   "id": "8e59a324-3840-4758-9237-16795fb573d7",
   "metadata": {
    "tags": []
   },
   "outputs": [
    {
     "data": {
      "text/plain": [
       "('PMC8504120', '2021')"
      ]
     },
     "execution_count": 3,
     "metadata": {},
     "output_type": "execute_result"
    }
   ],
   "source": [
    "get_pmcid_year(33906174)"
   ]
  },
  {
   "cell_type": "code",
   "execution_count": 4,
   "id": "842a37ff-3a89-41b2-962c-d5d13f98a252",
   "metadata": {
    "tags": []
   },
   "outputs": [
    {
     "data": {
      "text/plain": [
       "({'35770940': 'closed',\n",
       "  '35944998': 'PMC9480892',\n",
       "  '32321746': 'PMC7204083',\n",
       "  '37540708': 'PMC10431685'},\n",
       " {'35770940': '2023',\n",
       "  '35944998': '2022',\n",
       "  '32321746': '2020',\n",
       "  '37540708': '2023'},\n",
       " {'35770940': 'The many roles of dystroglycan in nervous system development and function: Dystroglycan and neural circuit development: Dystroglycan and neural circuit development.',\n",
       "  '35944998': 'Shared and Distinct Functional Effects of Patient-Specific Tbr1 Mutations on Cortical Development.',\n",
       "  '32321746': 'Molecular Mechanisms of Non-ionotropic NMDA Receptor Signaling in Dendritic Spine Shrinkage.',\n",
       "  '37540708': 'An adhesion signaling axis involving Dystroglycan, β1-Integrin, and Cas adaptor proteins regulates the establishment of the cortical glial scaffold.'},\n",
       " {'35770940': 'Dev Dyn.',\n",
       "  '35944998': 'J Neurosci.',\n",
       "  '32321746': 'J Neurosci.',\n",
       "  '37540708': 'PLoS Biol.'})"
      ]
     },
     "execution_count": 4,
     "metadata": {},
     "output_type": "execute_result"
    }
   ],
   "source": [
    "get_pmids_open(\"jennifer jahncke\")"
   ]
  },
  {
   "cell_type": "markdown",
   "id": "71b7723f-ec59-45e4-bc8d-950d4dc02123",
   "metadata": {},
   "source": [
    "### STEP 2: Classify text to find markers of openness:\n",
    "***\n",
    "Each paper an author is listed under is then scraped to determine how open source the paper is. Each paper is scraped for the following catagories and subcatagories:\n",
    "\n",
    "__Data :__ <br>\n",
    "_data shared:_ the data is publically available online <br>\n",
    "_data requested:_ the data can be requested for use <br>\n",
    "\n",
    "__Code :__<br>\n",
    "_code shared:_ the code is publically available online<br>\n",
    "_code requested:_ the code can be requested for use<br>\n",
    "\n",
    "__Full text availability :__<br>\n",
    "Is the text publically avaiable, or does it have pay barriers? <br>\n",
    "If a predefined phrase for each catagory (see keywords.csv) is seen in the manuscript text, the catagory is given a binary value. Values were weighted based on openness, with publically shared data/code recieving a value of 1, and requested data/code recieving a value of 0.5.\n",
    "\n",
    "If code is not relevant to the paper, the O-index calculation will detect this and add an NaN to the code column. This will allow it to not impact the final O-index score for a paper. Additionally, papers that are not open and papers that are open but do not have a PMCID and are therefore unable to be scraped will recieve NaNs for both code and data sharing sections"
   ]
  },
  {
   "cell_type": "code",
   "execution_count": 5,
   "id": "b113b9de-0591-4d78-9a1e-07e70f07f473",
   "metadata": {
    "tags": []
   },
   "outputs": [],
   "source": [
    "def get_openness(author, api):\n",
    "    ids, years, titles, journals = get_pmids_open(author)\n",
    "    \n",
    "    apikey = open(api, 'r').read()\n",
    "\n",
    "    # Load keywords and create open-science categories\n",
    "    keyword_df = pd.read_csv('o-index-shiny/keywords.csv')\n",
    "    categoryIDs = np.unique(np.array(keyword_df['category']))\n",
    "    category_descriptions = keyword_df['category_description']\n",
    "    category_descriptions = category_descriptions.unique().tolist()\n",
    "    full_text = 'full_text'\n",
    "    category_descriptions.append(full_text)\n",
    "    \n",
    "    #create df with all the unique categories:\n",
    "    data = (len(ids), len(category_descriptions))\n",
    "\n",
    "    #data = (len(ids), len(category_descriptions))\n",
    "    o_idx_df = pd.DataFrame(np.zeros(data), columns = category_descriptions)\n",
    "    #deleting the 'code relevant column from the final df\n",
    "    pmcids = []\n",
    "    for i, item in enumerate(ids): \n",
    "        o_idx_df.loc[[i],['pmid']] = item\n",
    "        o_idx_df.loc[[i],['year']] = years[item]\n",
    "        o_idx_df.loc[[i],['journal']] = journals[item]\n",
    "        o_idx_df.loc[[i],['title']] = titles[item]\n",
    "        if ids[item] == 'closed':\n",
    "            pmcids.append(None)\n",
    "            #if PMCID is unavailable make items in df None type\n",
    "            o_idx_df.iloc[[i],0:2] = None\n",
    "            continue\n",
    "        if ids[item] == 'open':\n",
    "            pmcids.append(None)\n",
    "            o_idx_df.loc[[i],['full_text']] = 1\n",
    "            o_idx_df.iloc[[i],0:2] = None\n",
    "\n",
    "        else:\n",
    "            pmcids.append(ids[item])\n",
    "            o_idx_df.loc[[i],['full_text']] = 1\n",
    "    db = 'pmc'\n",
    "    base = 'http://eutils.ncbi.nlm.nih.gov/entrez/eutils/efetch.fcgi?'\n",
    "    for j, pmcid in enumerate(pmcids):\n",
    "        if pmcid == None:\n",
    "            continue\n",
    "        s = '{:s}db={:s}&id={:s}'.format(base, db, pmcid, apikey)\n",
    "        out = requests.get(s)\n",
    "        bs = BeautifulSoup(out.content, features=\"xml\")\n",
    "        # Check if full text is available; if not - move to the next paper\n",
    "        for cat in categoryIDs:\n",
    "            found_keyword = False\n",
    "            # Loop through specific keywords related to each open-science category\n",
    "            for k, keyword in enumerate(keyword_df['keyword'][keyword_df['category'] == cat]):\n",
    "                for s in finditer(keyword, out.text, IGNORECASE):\n",
    "                    #if we are on cat \"code relevant\" (cat 3) we are testing to see if code is relevant for this paper\n",
    "                    o_idx_df.iloc[[j],[cat-1]] = keyword_df.loc[k][\"weight\"]\n",
    "                    found_keyword = True\n",
    "\n",
    "                # If one keyword is found, stop with searching for this category\n",
    "                if found_keyword is True:\n",
    "                    break\n",
    "            #if code category is 0, check to see if code is relevant\n",
    "            if cat == 2 and found_keyword== True:\n",
    "                break \n",
    "            if cat == 3 and found_keyword == False:\n",
    "                o_idx_df.iloc[[j],[cat-2]] = None\n",
    "                break    \n",
    "                \n",
    "    del o_idx_df['code_relevant']\n",
    "\n",
    "    o_idx_df.loc[:,'o-score'] = o_idx_df.mean(numeric_only=True, axis=1)\n",
    "\n",
    "    return o_idx_df"
   ]
  },
  {
   "cell_type": "code",
   "execution_count": 6,
   "id": "8a8c3169-a112-4d0a-9be6-8a96815d7ecc",
   "metadata": {
    "tags": []
   },
   "outputs": [
    {
     "data": {
      "text/html": [
       "<div>\n",
       "<style scoped>\n",
       "    .dataframe tbody tr th:only-of-type {\n",
       "        vertical-align: middle;\n",
       "    }\n",
       "\n",
       "    .dataframe tbody tr th {\n",
       "        vertical-align: top;\n",
       "    }\n",
       "\n",
       "    .dataframe thead th {\n",
       "        text-align: right;\n",
       "    }\n",
       "</style>\n",
       "<table border=\"1\" class=\"dataframe\">\n",
       "  <thead>\n",
       "    <tr style=\"text-align: right;\">\n",
       "      <th></th>\n",
       "      <th>data</th>\n",
       "      <th>code</th>\n",
       "      <th>full_text</th>\n",
       "      <th>pmid</th>\n",
       "      <th>year</th>\n",
       "      <th>journal</th>\n",
       "      <th>title</th>\n",
       "      <th>o-score</th>\n",
       "    </tr>\n",
       "  </thead>\n",
       "  <tbody>\n",
       "    <tr>\n",
       "      <th>0</th>\n",
       "      <td>NaN</td>\n",
       "      <td>NaN</td>\n",
       "      <td>0.0</td>\n",
       "      <td>35770940</td>\n",
       "      <td>2023</td>\n",
       "      <td>Dev Dyn.</td>\n",
       "      <td>The many roles of dystroglycan in nervous syst...</td>\n",
       "      <td>0.0</td>\n",
       "    </tr>\n",
       "    <tr>\n",
       "      <th>1</th>\n",
       "      <td>0.0</td>\n",
       "      <td>NaN</td>\n",
       "      <td>1.0</td>\n",
       "      <td>35944998</td>\n",
       "      <td>2022</td>\n",
       "      <td>J Neurosci.</td>\n",
       "      <td>Shared and Distinct Functional Effects of Pati...</td>\n",
       "      <td>0.5</td>\n",
       "    </tr>\n",
       "    <tr>\n",
       "      <th>2</th>\n",
       "      <td>0.0</td>\n",
       "      <td>NaN</td>\n",
       "      <td>1.0</td>\n",
       "      <td>32321746</td>\n",
       "      <td>2020</td>\n",
       "      <td>J Neurosci.</td>\n",
       "      <td>Molecular Mechanisms of Non-ionotropic NMDA Re...</td>\n",
       "      <td>0.5</td>\n",
       "    </tr>\n",
       "    <tr>\n",
       "      <th>3</th>\n",
       "      <td>0.0</td>\n",
       "      <td>NaN</td>\n",
       "      <td>1.0</td>\n",
       "      <td>37540708</td>\n",
       "      <td>2023</td>\n",
       "      <td>PLoS Biol.</td>\n",
       "      <td>An adhesion signaling axis involving Dystrogly...</td>\n",
       "      <td>0.5</td>\n",
       "    </tr>\n",
       "  </tbody>\n",
       "</table>\n",
       "</div>"
      ],
      "text/plain": [
       "   data  code  full_text      pmid  year      journal  \\\n",
       "0   NaN   NaN        0.0  35770940  2023     Dev Dyn.   \n",
       "1   0.0   NaN        1.0  35944998  2022  J Neurosci.   \n",
       "2   0.0   NaN        1.0  32321746  2020  J Neurosci.   \n",
       "3   0.0   NaN        1.0  37540708  2023   PLoS Biol.   \n",
       "\n",
       "                                               title  o-score  \n",
       "0  The many roles of dystroglycan in nervous syst...      0.0  \n",
       "1  Shared and Distinct Functional Effects of Pati...      0.5  \n",
       "2  Molecular Mechanisms of Non-ionotropic NMDA Re...      0.5  \n",
       "3  An adhesion signaling axis involving Dystrogly...      0.5  "
      ]
     },
     "execution_count": 6,
     "metadata": {},
     "output_type": "execute_result"
    }
   ],
   "source": [
    "get_openness(\"jennifer jahncke\", \"o-index-shiny/apikey.txt\")"
   ]
  },
  {
   "cell_type": "markdown",
   "id": "221c66a1-0415-4ed5-adbd-0a12b147f750",
   "metadata": {
    "tags": []
   },
   "source": [
    "### STEP 3: Calculate the O-index:\n",
    "***\n",
    "An O-score is calculated for each paper summing the total instances of openness, and dividing by the total number of catagories. O-score across papers were averaged to obtain an O-index for a specific author.\n"
   ]
  },
  {
   "cell_type": "code",
   "execution_count": 7,
   "id": "b3b864f0-ea95-4ac5-b325-c006b184377f",
   "metadata": {
    "tags": []
   },
   "outputs": [],
   "source": [
    "def oindex(df):\n",
    "    OIndex = df[\"o-score\"].mean()\n",
    "    return OIndex"
   ]
  },
  {
   "cell_type": "code",
   "execution_count": 8,
   "id": "e604def1-b504-4335-b152-7aa0001d8321",
   "metadata": {
    "tags": []
   },
   "outputs": [
    {
     "data": {
      "text/plain": [
       "0.375"
      ]
     },
     "execution_count": 8,
     "metadata": {},
     "output_type": "execute_result"
    }
   ],
   "source": [
    "oindex(get_openness(\"jennifer jahncke\", \"o-index-shiny/apikey.txt\"))"
   ]
  },
  {
   "cell_type": "markdown",
   "id": "c5175636-8a31-4e0a-9d0e-39eda0d1767b",
   "metadata": {},
   "source": [
    "### STEP 4: Data visualization and meaning:\n",
    "***\n",
    "__Overall O-index:__ An O-index for the author will be displayed at the top of the GUI. This number averages the O-score for all papers the author is associated with. An O-index can range between 0 and 1, with higher numbers showing an author is more 'open'.\n",
    "\n",
    "__Manuscript table:__ This table will include the catagory scores and an O-score for each paper an author has published, along with the papers PMID and year of publication.\n",
    "\n",
    "__Change in O-score over time:__ A plot of the average O-score for given years of publications are shown for an author to see the change in their O-score across years. Error bars are present for years in which more than one paper were published."
   ]
  },
  {
   "cell_type": "markdown",
   "id": "2b0cfb6c-1511-43f8-8baa-1569c9b8586c",
   "metadata": {},
   "source": [
    "## Calculate your O-Index \n",
    "Calculate your O-Index by adding using the functions provided in this notebook. You will need to aquire a NCBI API key. This will allow you to be identified by NCBI servers. <br>\n",
    "__Instructions to access this key are provided here:__ <br>\n",
    "Users can obtain an API key now from the Settings page of their NCBI account (to create an account, visit http://www.ncbi.nlm.nih.gov/account/).\n",
    "\n",
    "__Calculate your o-index by typing your name as the first argument in the _get_openness_ function__"
   ]
  },
  {
   "cell_type": "code",
   "execution_count": 9,
   "id": "3b231a56-04df-40d1-a9b6-d976db2278d7",
   "metadata": {
    "tags": []
   },
   "outputs": [
    {
     "name": "stdout",
     "output_type": "stream",
     "text": [
      "Your o-index is: 0.375\n"
     ]
    },
    {
     "data": {
      "text/html": [
       "<div>\n",
       "<style scoped>\n",
       "    .dataframe tbody tr th:only-of-type {\n",
       "        vertical-align: middle;\n",
       "    }\n",
       "\n",
       "    .dataframe tbody tr th {\n",
       "        vertical-align: top;\n",
       "    }\n",
       "\n",
       "    .dataframe thead th {\n",
       "        text-align: right;\n",
       "    }\n",
       "</style>\n",
       "<table border=\"1\" class=\"dataframe\">\n",
       "  <thead>\n",
       "    <tr style=\"text-align: right;\">\n",
       "      <th></th>\n",
       "      <th>data</th>\n",
       "      <th>code</th>\n",
       "      <th>full_text</th>\n",
       "      <th>pmid</th>\n",
       "      <th>year</th>\n",
       "      <th>journal</th>\n",
       "      <th>title</th>\n",
       "      <th>o-score</th>\n",
       "    </tr>\n",
       "  </thead>\n",
       "  <tbody>\n",
       "    <tr>\n",
       "      <th>0</th>\n",
       "      <td>NaN</td>\n",
       "      <td>NaN</td>\n",
       "      <td>0.0</td>\n",
       "      <td>35770940</td>\n",
       "      <td>2023</td>\n",
       "      <td>Dev Dyn.</td>\n",
       "      <td>The many roles of dystroglycan in nervous syst...</td>\n",
       "      <td>0.0</td>\n",
       "    </tr>\n",
       "    <tr>\n",
       "      <th>1</th>\n",
       "      <td>0.0</td>\n",
       "      <td>NaN</td>\n",
       "      <td>1.0</td>\n",
       "      <td>35944998</td>\n",
       "      <td>2022</td>\n",
       "      <td>J Neurosci.</td>\n",
       "      <td>Shared and Distinct Functional Effects of Pati...</td>\n",
       "      <td>0.5</td>\n",
       "    </tr>\n",
       "    <tr>\n",
       "      <th>2</th>\n",
       "      <td>0.0</td>\n",
       "      <td>NaN</td>\n",
       "      <td>1.0</td>\n",
       "      <td>32321746</td>\n",
       "      <td>2020</td>\n",
       "      <td>J Neurosci.</td>\n",
       "      <td>Molecular Mechanisms of Non-ionotropic NMDA Re...</td>\n",
       "      <td>0.5</td>\n",
       "    </tr>\n",
       "    <tr>\n",
       "      <th>3</th>\n",
       "      <td>0.0</td>\n",
       "      <td>NaN</td>\n",
       "      <td>1.0</td>\n",
       "      <td>37540708</td>\n",
       "      <td>2023</td>\n",
       "      <td>PLoS Biol.</td>\n",
       "      <td>An adhesion signaling axis involving Dystrogly...</td>\n",
       "      <td>0.5</td>\n",
       "    </tr>\n",
       "  </tbody>\n",
       "</table>\n",
       "</div>"
      ],
      "text/plain": [
       "   data  code  full_text      pmid  year      journal  \\\n",
       "0   NaN   NaN        0.0  35770940  2023     Dev Dyn.   \n",
       "1   0.0   NaN        1.0  35944998  2022  J Neurosci.   \n",
       "2   0.0   NaN        1.0  32321746  2020  J Neurosci.   \n",
       "3   0.0   NaN        1.0  37540708  2023   PLoS Biol.   \n",
       "\n",
       "                                               title  o-score  \n",
       "0  The many roles of dystroglycan in nervous syst...      0.0  \n",
       "1  Shared and Distinct Functional Effects of Pati...      0.5  \n",
       "2  Molecular Mechanisms of Non-ionotropic NMDA Re...      0.5  \n",
       "3  An adhesion signaling axis involving Dystrogly...      0.5  "
      ]
     },
     "execution_count": 9,
     "metadata": {},
     "output_type": "execute_result"
    },
    {
     "data": {
      "image/png": "[encoded data removed]",
      "text/plain": [
       "<Figure size 1000x600 with 1 Axes>"
      ]
     },
     "metadata": {},
     "output_type": "display_data"
    }
   ],
   "source": [
    "#Calculate your o-index by typing your name as the first argument in the get_openness function\n",
    "o_df = get_openness(\"jennifer jahncke\", \"o-index-shiny/apikey.txt\")\n",
    "print(f\"Your o-index is: {oindex(o_df)}\")\n",
    "\n",
    "plt.figure(figsize=(10, 6))\n",
    "ax = sns.pointplot(data = o_df.sort_values(by ='year'), x= 'year', y= 'o-score', color = 'magenta', errwidth=0.5)\n",
    "ax.set(xlabel='Year',\n",
    "       ylabel='O-Score',\n",
    "       title='Yearly O-Score')\n",
    "ax;\n",
    "o_df"
   ]
  }
 ],
 "metadata": {
  "kernelspec": {
   "display_name": "Python 3 (ipykernel)",
   "language": "python",
   "name": "python3"
  },
  "language_info": {
   "codemirror_mode": {
    "name": "ipython",
    "version": 3
   },
   "file_extension": ".py",
   "mimetype": "text/x-python",
   "name": "python",
   "nbconvert_exporter": "python",
   "pygments_lexer": "ipython3",
   "version": "3.10.11"
  }
 },
 "nbformat": 4,
 "nbformat_minor": 5
}
